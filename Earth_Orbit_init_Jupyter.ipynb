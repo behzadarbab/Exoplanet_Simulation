{
 "cells": [
  {
   "cell_type": "code",
   "execution_count": null,
   "metadata": {
    "collapsed": true
   },
   "outputs": [],
   "source": [
    "import rebound\n",
    "import matplotlib.pyplot as plt\n",
    "import numpy as np\n",
    "\n",
    "sim = rebound.Simulation()\n",
    "sim.add(m=1)\n",
    "sim.add(m=3e-6, a=1, e=0)\n",
    "sim.t= 0\n",
    "times= np.linspace(0, 1000000, 1000)\n",
    "for t in times:\n",
    "    sim.integrate(t)\n",
    "    fig = rebound.OrbitPlot(sim, trails=True, slices=True, color=True, periastron=True, unitlabel=\"[AU]\")\n",
    "    plt.show()"
   ]
  }
 ],
 "metadata": {
  "kernelspec": {
   "display_name": "Python 2",
   "language": "python",
   "name": "python2"
  },
  "language_info": {
   "codemirror_mode": {
    "name": "ipython",
    "version": 2.0
   },
   "file_extension": ".py",
   "mimetype": "text/x-python",
   "name": "python",
   "nbconvert_exporter": "python",
   "pygments_lexer": "ipython2",
   "version": "2.7.6"
  }
 },
 "nbformat": 4,
 "nbformat_minor": 0
}